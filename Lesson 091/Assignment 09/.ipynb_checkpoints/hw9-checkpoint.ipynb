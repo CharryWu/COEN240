{
 "cells": [
  {
   "cell_type": "code",
   "execution_count": 1,
   "id": "e62b3df4",
   "metadata": {},
   "outputs": [],
   "source": [
    "import numpy"
   ]
  },
  {
   "cell_type": "code",
   "execution_count": 2,
   "id": "a4d0870b",
   "metadata": {},
   "outputs": [],
   "source": [
    "\n",
    "# using Algorithm 1\n",
    "# step 1:\n",
    "a = numpy.array([[0.95, 0.05], [0.10, 0.90]])\n",
    "b = numpy.array([[1/6, 1/6, 1/6, 1/6, 1/6, 1/6], [1/10, 1/10, 1/10, 1/10, 1/10, 1/2]])\n",
    "pi = [1/2, 1/2]\n",
    "file_name = './Five Die Roll Strings Dishonest Casino.docx'\n",
    "# doc = docx.Document(file_name);\n",
    "s = [\n",
    "    '315116246446644245321131631164152133625144543631656626566666',\n",
    "    '651166453132651245636664631636663162326455235266666625151631',\n",
    "    '222555441666566563564324364131513465146353411126414626253356',\n",
    "    '366163666466232534413661661163252562462255265252266435353336',\n",
    "    '233121625364414432335163243633665562466662632666612355245242',\n",
    "]\n",
    "\n",
    "D =['FFFFFFFFFFFFFFFFFFFFFFFFFFFFFFFFFFFFFFFFFFFFFLLLLLLLLLLLLLLL', 'LLLLLLFFFFFFFFFFFFLLLLLLLLLLLLLLLLFFFLLLLLLLLLLLLLLFFFFFFFFF','FFFFFFFFLLLLLLLLLLLLLFFFFFFFFFFFFFFFFFFFFFFFFFFFFFFFFFFFFFFL','LLLLLLLLFFFFFFFFFFFFFFFFFFFFFFFFFFFFFFFFFFFFFFFFFFFFFFFFFFFF', 'FFFFFFFFFFFFFFFFFFFFFFFFFFFLLLLLLLLLLLLLLLLLLLLLLFFFFFFFFFFF']\n",
    "N = 2\n",
    "for roll in range(0, 5):\n",
    "    delta = []\n",
    "    d = [[], []]\n",
    "    for i in range(1, N + 1):\n",
    "        o1 = int(s[roll][0])-1\n",
    "        d[i - 1] = pi[i - 1] * b[i - 1][o1]\n",
    "    delta.append(d)\n",
    "\n",
    "    psi = []\n",
    "    ps = [[], []]\n",
    "    for i in range(1, N + 1):\n",
    "        ps[i - 1] = 0\n",
    "    psi.append(ps)\n",
    "\n",
    "\n",
    "    # step 2:\n",
    "    T = len(s[0])\n",
    "    for t in range(2, T + 1):\n",
    "        dd = []\n",
    "        psiii = []\n",
    "        for i in range(1, N + 1):\n",
    "            d = []\n",
    "            for k in range(1, N + 1):\n",
    "                d.append(delta[(t - 1) - 1][k - 1] * a[k - 1][i - 1])\n",
    "            maxim = max(d[0], d[1])\n",
    "            dd.append(maxim * b[i - 1][int(s[roll][t - 1]) - 1])\n",
    "            psiii.append(d.index(maxim))\n",
    "        delta.append(dd)\n",
    "        psi.append(psiii)\n",
    "        \n",
    "    # step 3\n",
    "    P_star = max(delta[T - 1][0], delta[T - 1][1])\n",
    "    Q_star = delta[T - 1].index(P_star)"
   ]
  },
  {
   "cell_type": "code",
   "execution_count": 3,
   "id": "a10f6444",
   "metadata": {},
   "outputs": [],
   "source": []
  },
  {
   "cell_type": "code",
   "execution_count": 4,
   "id": "8bfc2ad2",
   "metadata": {},
   "outputs": [],
   "source": []
  },
  {
   "cell_type": "code",
   "execution_count": 5,
   "id": "75d770f4",
   "metadata": {},
   "outputs": [
    {
     "name": "stdout",
     "output_type": "stream",
     "text": [
      "\n",
      "\n",
      "\n",
      "Rolls  233121625364414432335163243633665562466662632666612355245242\n",
      "Die  FFFFFFFFFFFFFFFFFFFFFFFFFFFLLLLLLLLLLLLLLLLLLLLLLFFFFFFFFFFF\n",
      "Viterbi FFFFFFFFFFFFFFFFFFFFFFFFFFFFFFLLLLLLLLLLLLLLLLLLLFFFFFFFFFFF\n"
     ]
    }
   ],
   "source": [
    "\n",
    "\n",
    "# step4\n",
    "qt_star = [None] * 60\n",
    "qt_star[T - 1] = Q_star\n",
    "for t in range(T - 2, -1, -1):\n",
    "    qt_star[t] = psi[t + 1][qt_star[t + 1]]\n",
    "\n",
    "print()\n",
    "print()\n",
    "print()\n",
    "print('Rolls ',s[roll])\n",
    "print('Die ', D[roll])\n",
    "print('Viterbi ', end='')\n",
    "for viterbi in qt_star:\n",
    "    if viterbi == 1:\n",
    "        print(\"L\", end='')\n",
    "    else:\n",
    "        print(\"F\", end='')\n",
    "print()"
   ]
  }
 ],
 "metadata": {
  "kernelspec": {
   "display_name": "Python 3 (ipykernel)",
   "language": "python",
   "name": "python3"
  },
  "language_info": {
   "codemirror_mode": {
    "name": "ipython",
    "version": 3
   },
   "file_extension": ".py",
   "mimetype": "text/x-python",
   "name": "python",
   "nbconvert_exporter": "python",
   "pygments_lexer": "ipython3",
   "version": "3.10.9"
  }
 },
 "nbformat": 4,
 "nbformat_minor": 5
}
