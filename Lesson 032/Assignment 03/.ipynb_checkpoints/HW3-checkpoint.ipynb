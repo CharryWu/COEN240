{
 "cells": [
  {
   "cell_type": "markdown",
   "id": "5539e4cc",
   "metadata": {},
   "source": [
    "Define briefly:\n",
    "(a) (5 points) Machine learning (ML)\n",
    "(b) (5 points) Data mining (DM).\n",
    "(c) (5 points) What are the commonalities and differences between ML and DM?\n",
    "\n",
    "(a) Machine learning (ML) is a technique to solve optimization problems based on self-adaptive algorithms,\n",
    "by learning from known examples (supervised paradigm) or by self-organizing data (unsupervised paradigm).\n",
    "\n",
    "(b) Data Mining (DM) is the exploration of data searching for unknown properties\n",
    "and correlation laws (that's why data mining is a synonymous of Knowledge Discovery in Databases).\n",
    "\n",
    "(c) Data Mining is the more general concept. Different families of techniques can be applied to data\n",
    "to \"mine\" it. Machine learning (supervised, unsupervised, ...) is one family of data analysis techniques.\n",
    "Traditional statistics (regression analysis, principal components, factorial analysis, etc.) is another.\n",
    "\n",
    "\n",
    "DM could make use of ML. In particular clustering problems, based on the unsupervised ML paradigm,\n",
    "are a typical case of DM, since you train a machine to search unpredictable overdensities of\n",
    "data entries in the parameter space, without any a priori assumption.\n"
   ]
  },
  {
   "cell_type": "markdown",
   "id": "52ce7fae",
   "metadata": {},
   "source": [
    "---\n",
    "Give two definitions of a convex function of a single variable\n",
    "\n",
    "Mathematically, a function f is convex if for all $x_1$, $x_2$ and all $0 \\lt a \\lt 1$,\n",
    "$f(ax_1 + (1-a) \\cdot x_2) \\le a \\cdot f(x_1) + (1-a) \\cdot f(x_2)$\n",
    "\n",
    "There is an easier way to check for convexity when f is twice differentiable: function f is convex on some domain $[a,b]$ iff $f''(x) \\ge 0$ for all $x$ in the domain\n",
    "\n",
    "If f(x) is convex, then any local minimum is also a global minimum\n"
   ]
  },
  {
   "cell_type": "markdown",
   "id": "89463e55",
   "metadata": {},
   "source": [
    "---\n",
    "Find the local maxima and minima, if any, of the following functions.\n",
    "\n",
    "(a) $x^3 - 12x + 1$  \n",
    "First derivative is $3x^2-12$, which is zero at $x=\\pm2$. The second derivative is $6x$. The zero point is also the local min & max of the original function. At $x=-2$ second derivative is negative, which indicates a local maxima. At $x=2$ second derivative is positive, which indicates a local minima.\n",
    "\n",
    "(b) $x^4 - 4x^3 + 6x^2 - 4x + 1$  \n",
    "First derivative is $4x^3-12x^2+12x-4$, second derivative is $12x^2-24x+12$. First derivative is zero at $x=1$, and at this point second derivative is also zero, indicating that it may or may not be an extrema Look into the plot of the original graph, we can clearly see at $x=1$ the graph is 1\n",
    "\n",
    "(c) $x^5 - 5x^4 + 10x^3 - 10x^2 + 5x - 1$\n",
    "First derivative is $5x^4 - 20x^3 + 30x^2 - 20x + 5$, second derivative is $20x^3-60x^2+60x-20$. First derivative is zero at $x=1$, second derivative at $x=1$ is zero, indicating that it may or may not be an extrema Look into the plot of the original graph, we can clearly see at $x=1$ the graph is not extrema, it's an inflection point. Therefore no extrema exist for this function.\n",
    "\n",
    "(d) $(4-2x) e ^ {x^2}$\n",
    "First derivative is $ e ^ {x^2} \\cdot (-2x^2+4x-1)$, second derivative is $e ^ {x^2}(-4x+4)+2xe^{x^2} \\cdot (-2x^2+4x-1)$. First derivative is zero at $x=1\\pm \\frac{1}{\\sqrt2}$. Second derivative is positive at $x=1-\\frac{1}{\\sqrt2}$, incicating at this point minima exist. Second derivative is negative at $x=1+\\frac{1}{\\sqrt2}$, incicating at this point maxima exist."
   ]
  }
 ],
 "metadata": {
  "kernelspec": {
   "display_name": "Python 3 (ipykernel)",
   "language": "python",
   "name": "python3"
  },
  "language_info": {
   "codemirror_mode": {
    "name": "ipython",
    "version": 3
   },
   "file_extension": ".py",
   "mimetype": "text/x-python",
   "name": "python",
   "nbconvert_exporter": "python",
   "pygments_lexer": "ipython3",
   "version": "3.10.9"
  }
 },
 "nbformat": 4,
 "nbformat_minor": 5
}
