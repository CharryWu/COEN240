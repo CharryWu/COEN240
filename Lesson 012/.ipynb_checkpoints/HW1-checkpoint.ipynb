{
 "cells": [
  {
   "cell_type": "code",
   "execution_count": 3,
   "id": "a61df5a0",
   "metadata": {},
   "outputs": [],
   "source": [
    "import pandas as pd\n",
    "import numpy as np"
   ]
  },
  {
   "cell_type": "code",
   "execution_count": 4,
   "id": "04627ed8",
   "metadata": {},
   "outputs": [],
   "source": [
    "data = np.array([(2, 2), (4, 6), (5, 4), (7, 8), (8, 10), (10, 12)])\n",
    "data_x = data[:,0]\n",
    "data_y = data[:,1]"
   ]
  },
  {
   "cell_type": "code",
   "execution_count": 5,
   "id": "6dfd7ee5",
   "metadata": {},
   "outputs": [],
   "source": [
    "xbar = np.average(data_x)\n",
    "ybar = np.average(data_y)"
   ]
  },
  {
   "cell_type": "code",
   "execution_count": 6,
   "id": "635eb160",
   "metadata": {},
   "outputs": [
    {
     "data": {
      "text/plain": [
       "6.0"
      ]
     },
     "execution_count": 6,
     "metadata": {},
     "output_type": "execute_result"
    }
   ],
   "source": [
    "xbar"
   ]
  },
  {
   "cell_type": "code",
   "execution_count": 7,
   "id": "6b66674e",
   "metadata": {},
   "outputs": [
    {
     "data": {
      "text/plain": [
       "7.0"
      ]
     },
     "execution_count": 7,
     "metadata": {},
     "output_type": "execute_result"
    }
   ],
   "source": [
    "ybar"
   ]
  },
  {
   "cell_type": "code",
   "execution_count": null,
   "id": "10c368b9",
   "metadata": {},
   "outputs": [],
   "source": []
  }
 ],
 "metadata": {
  "kernelspec": {
   "display_name": "Python 3 (ipykernel)",
   "language": "python",
   "name": "python3"
  },
  "language_info": {
   "codemirror_mode": {
    "name": "ipython",
    "version": 3
   },
   "file_extension": ".py",
   "mimetype": "text/x-python",
   "name": "python",
   "nbconvert_exporter": "python",
   "pygments_lexer": "ipython3",
   "version": "3.10.9"
  }
 },
 "nbformat": 4,
 "nbformat_minor": 5
}
