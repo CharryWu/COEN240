{
 "cells": [
  {
   "cell_type": "code",
   "execution_count": 1,
   "id": "c579e113",
   "metadata": {},
   "outputs": [],
   "source": [
    "import pandas as pd\n",
    "import numpy as np"
   ]
  },
  {
   "cell_type": "code",
   "execution_count": 2,
   "id": "6423595e",
   "metadata": {},
   "outputs": [],
   "source": [
    "data = np.array([(2, 2), (4, 6), (5, 4), (7, 8), (8, 10), (10, 12)])\n",
    "data_x = data[:,0]\n",
    "data_y = data[:,1]"
   ]
  },
  {
   "cell_type": "code",
   "execution_count": 3,
   "id": "f9dd4c05",
   "metadata": {},
   "outputs": [],
   "source": [
    "n = len(data)"
   ]
  },
  {
   "cell_type": "code",
   "execution_count": 4,
   "id": "d2015004",
   "metadata": {},
   "outputs": [],
   "source": [
    "xbar = np.average(data_x)\n",
    "ybar = np.average(data_y)"
   ]
  },
  {
   "cell_type": "code",
   "execution_count": 5,
   "id": "82295d22",
   "metadata": {},
   "outputs": [
    {
     "data": {
      "text/plain": [
       "6.0"
      ]
     },
     "execution_count": 5,
     "metadata": {},
     "output_type": "execute_result"
    }
   ],
   "source": [
    "xbar"
   ]
  },
  {
   "cell_type": "code",
   "execution_count": 6,
   "id": "803b28a0",
   "metadata": {
    "scrolled": true
   },
   "outputs": [
    {
     "data": {
      "text/plain": [
       "7.0"
      ]
     },
     "execution_count": 6,
     "metadata": {},
     "output_type": "execute_result"
    }
   ],
   "source": [
    "ybar"
   ]
  },
  {
   "cell_type": "code",
   "execution_count": 7,
   "id": "5091bea2",
   "metadata": {},
   "outputs": [
    {
     "name": "stdout",
     "output_type": "stream",
     "text": [
      "Sx^2 = 7.0000\n"
     ]
    }
   ],
   "source": [
    "x_residual_sq = 0\n",
    "for x in data_x:\n",
    "    x_residual_sq += (x-xbar)**2\n",
    "variance_x = (x_residual_sq) / (n)\n",
    "print(\"Sx^2 = {variance_x:.4f}\".format(variance_x = variance_x))"
   ]
  },
  {
   "cell_type": "code",
   "execution_count": 8,
   "id": "9c9416d1",
   "metadata": {
    "scrolled": true
   },
   "outputs": [
    {
     "name": "stdout",
     "output_type": "stream",
     "text": [
      "Sy^2 = 11.6667\n"
     ]
    }
   ],
   "source": [
    "y_residual_sq = 0\n",
    "for y in data_y:\n",
    "    y_residual_sq += (y-ybar)**2\n",
    "variance_y = (y_residual_sq) / (n)\n",
    "print(\"Sy^2 = {variance_y:.4f}\".format(variance_y = variance_y))"
   ]
  },
  {
   "cell_type": "code",
   "execution_count": 9,
   "id": "2c715ddf",
   "metadata": {},
   "outputs": [
    {
     "name": "stdout",
     "output_type": "stream",
     "text": [
      "Sxy = 8.6667\n"
     ]
    }
   ],
   "source": [
    "covariance = 0\n",
    "for x, y  in data:\n",
    "    covariance += (x-xbar) * (y-ybar)\n",
    "covariance /= n\n",
    "print(\"Sxy = {covariance:.4f}\".format(covariance = covariance))"
   ]
  },
  {
   "cell_type": "code",
   "execution_count": 10,
   "id": "fe8641a0",
   "metadata": {
    "scrolled": true
   },
   "outputs": [
    {
     "name": "stdout",
     "output_type": "stream",
     "text": [
      "r = 0.9590\n"
     ]
    }
   ],
   "source": [
    "# sample correlation coefficient r\n",
    "r = covariance / np.sqrt((variance_x*variance_y))\n",
    "print(\"r = {r:.4f}\".format(r = r))"
   ]
  },
  {
   "cell_type": "code",
   "execution_count": 11,
   "id": "1e7746cf",
   "metadata": {},
   "outputs": [
    {
     "name": "stdout",
     "output_type": "stream",
     "text": [
      "r^2 = 0.9197\n"
     ]
    }
   ],
   "source": [
    "rsq = r**2\n",
    "print(\"r^2 = {rsq:.4f}\".format(rsq = rsq))"
   ]
  },
  {
   "cell_type": "code",
   "execution_count": 12,
   "id": "8256274d",
   "metadata": {
    "scrolled": true
   },
   "outputs": [
    {
     "name": "stdout",
     "output_type": "stream",
     "text": [
      "E = 5.6190\n"
     ]
    }
   ],
   "source": [
    "# net error in regression line\n",
    "E = n * variance_y * (1 - rsq)\n",
    "print(\"E = {E:.4f}\".format(E = E))"
   ]
  },
  {
   "cell_type": "code",
   "execution_count": 13,
   "id": "65e30ce3",
   "metadata": {},
   "outputs": [
    {
     "name": "stdout",
     "output_type": "stream",
     "text": [
      "b = 1.2381\n"
     ]
    }
   ],
   "source": [
    "b = covariance / variance_x\n",
    "print(\"b = {b:.4f}\".format(b = b))"
   ]
  },
  {
   "cell_type": "code",
   "execution_count": 14,
   "id": "88db2d7f",
   "metadata": {},
   "outputs": [
    {
     "name": "stdout",
     "output_type": "stream",
     "text": [
      "a = -0.4286\n"
     ]
    }
   ],
   "source": [
    "a = ybar - b * xbar\n",
    "print(\"a = {a:.4f}\".format(a = a))"
   ]
  },
  {
   "cell_type": "code",
   "execution_count": 15,
   "id": "a4ba5150",
   "metadata": {},
   "outputs": [
    {
     "name": "stdout",
     "output_type": "stream",
     "text": [
      "[2.047619047619049, 4.523809523809525, 5.761904761904763, 8.238095238095239, 9.476190476190476, 11.952380952380953]\n"
     ]
    }
   ],
   "source": [
    "pred_y = [0] * n\n",
    "for i, x in enumerate(data_x):\n",
    "    pred_y[i] = a + b * x\n",
    "\n",
    "print(pred_y)"
   ]
  },
  {
   "cell_type": "code",
   "execution_count": 16,
   "id": "485f69dd",
   "metadata": {},
   "outputs": [
    {
     "name": "stdout",
     "output_type": "stream",
     "text": [
      "[0.04761904761904878, -1.4761904761904754, 1.7619047619047628, 0.23809523809523903, -0.5238095238095237, -0.04761904761904745]\n"
     ]
    }
   ],
   "source": [
    "err = [0] * n\n",
    "for i, y in enumerate(data_y):\n",
    "    err[i] = pred_y[i] - y\n",
    "\n",
    "print(err)"
   ]
  }
 ],
 "metadata": {
  "kernelspec": {
   "display_name": "Python 3 (ipykernel)",
   "language": "python",
   "name": "python3"
  },
  "language_info": {
   "codemirror_mode": {
    "name": "ipython",
    "version": 3
   },
   "file_extension": ".py",
   "mimetype": "text/x-python",
   "name": "python",
   "nbconvert_exporter": "python",
   "pygments_lexer": "ipython3",
   "version": "3.10.9"
  }
 },
 "nbformat": 4,
 "nbformat_minor": 5
}
