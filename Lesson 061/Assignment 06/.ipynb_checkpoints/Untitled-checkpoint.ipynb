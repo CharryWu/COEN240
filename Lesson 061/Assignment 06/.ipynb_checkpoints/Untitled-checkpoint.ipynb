{
 "cells": [
  {
   "cell_type": "code",
   "execution_count": 1,
   "id": "9977473d",
   "metadata": {},
   "outputs": [],
   "source": [
    "import numpy as np"
   ]
  },
  {
   "cell_type": "code",
   "execution_count": 34,
   "id": "cbca0f2c",
   "metadata": {},
   "outputs": [],
   "source": [
    "X = np.array([\n",
    "    [1,1,2],\n",
    "    [1,2,4],\n",
    "    [1,-3,-6]\n",
    "])"
   ]
  },
  {
   "cell_type": "code",
   "execution_count": 37,
   "id": "ad63b310",
   "metadata": {},
   "outputs": [
    {
     "data": {
      "text/plain": [
       "array([[ 3,  0,  0],\n",
       "       [ 0, 14, 28],\n",
       "       [ 0, 28, 56]])"
      ]
     },
     "execution_count": 37,
     "metadata": {},
     "output_type": "execute_result"
    }
   ],
   "source": [
    "XTX = X.T @ X\n",
    "XTX"
   ]
  },
  {
   "cell_type": "code",
   "execution_count": 33,
   "id": "a8c8861c",
   "metadata": {},
   "outputs": [],
   "source": [
    "y = np.array([[1],[2],[-3]])"
   ]
  },
  {
   "cell_type": "code",
   "execution_count": 41,
   "id": "926ef17e",
   "metadata": {},
   "outputs": [
    {
     "data": {
      "text/plain": [
       "array([[ 0],\n",
       "       [14],\n",
       "       [28]])"
      ]
     },
     "execution_count": 41,
     "metadata": {},
     "output_type": "execute_result"
    }
   ],
   "source": [
    "XTy = X.T@y\n",
    "XTy"
   ]
  },
  {
   "cell_type": "code",
   "execution_count": null,
   "id": "0b8a946b",
   "metadata": {},
   "outputs": [],
   "source": [
    "I = np.identity(3)"
   ]
  },
  {
   "cell_type": "code",
   "execution_count": 28,
   "id": "d25e71bc",
   "metadata": {},
   "outputs": [],
   "source": [
    "lambs = [10**-5, -10**-5, 10**-4, -10**-4, 10**-3, -10**-3, 10**-2, -10**-2, 10**-1, -10**-1]"
   ]
  },
  {
   "cell_type": "code",
   "execution_count": 32,
   "id": "a1d718ba",
   "metadata": {},
   "outputs": [
    {
     "name": "stdout",
     "output_type": "stream",
     "text": [
      "1e-05\n",
      "[[0.        ]\n",
      " [0.19999997]\n",
      " [0.39999994]]\n",
      "\n",
      "-1e-05\n",
      "[[0.        ]\n",
      " [0.20000003]\n",
      " [0.40000006]]\n",
      "\n",
      "0.0001\n",
      "[[0.        ]\n",
      " [0.19999971]\n",
      " [0.39999943]]\n",
      "\n",
      "-0.0001\n",
      "[[0.        ]\n",
      " [0.20000029]\n",
      " [0.40000057]]\n",
      "\n",
      "0.001\n",
      "[[0.        ]\n",
      " [0.19999714]\n",
      " [0.39999429]]\n",
      "\n",
      "-0.001\n",
      "[[0.        ]\n",
      " [0.20000286]\n",
      " [0.40000571]]\n",
      "\n",
      "0.01\n",
      "[[0.        ]\n",
      " [0.19997143]\n",
      " [0.39994287]]\n",
      "\n",
      "-0.01\n",
      "[[0.        ]\n",
      " [0.20002858]\n",
      " [0.40005715]]\n",
      "\n",
      "0.1\n",
      "[[0.        ]\n",
      " [0.19971469]\n",
      " [0.39942939]]\n",
      "\n",
      "-0.1\n",
      "[[0.        ]\n",
      " [0.20028612]\n",
      " [0.40057225]]\n",
      "\n"
     ]
    }
   ],
   "source": [
    "for lamb in lambs:\n",
    "    beta = np.linalg.inv(XTX + lamb*I) @ (XTy)\n",
    "    E = (y-)\n",
    "    print(lamb)\n",
    "    print(beta)\n",
    "    print()\n",
    "    print()"
   ]
  }
 ],
 "metadata": {
  "kernelspec": {
   "display_name": "Python 3 (ipykernel)",
   "language": "python",
   "name": "python3"
  },
  "language_info": {
   "codemirror_mode": {
    "name": "ipython",
    "version": 3
   },
   "file_extension": ".py",
   "mimetype": "text/x-python",
   "name": "python",
   "nbconvert_exporter": "python",
   "pygments_lexer": "ipython3",
   "version": "3.10.9"
  }
 },
 "nbformat": 4,
 "nbformat_minor": 5
}
