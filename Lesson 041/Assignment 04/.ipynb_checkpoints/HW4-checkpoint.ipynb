{
 "cells": [
  {
   "cell_type": "markdown",
   "id": "c0a0e14c",
   "metadata": {},
   "source": [
    "1) Consider 3x3 matrix\n",
    "$$\n",
    "\\begin{bmatrix}\n",
    "2 & -1 & 2 \\\\\n",
    "-1 & 3 & 0 \\\\\n",
    "2 & 0 & 5 \\\\\n",
    "\\end{bmatrix}\n",
    "$$\n",
    "\n",
    "If $x^T = \\begin{bmatrix} x_1 & x_2 & x_3 \\end{bmatrix}$, find quadratic form $x^TAx$ associated with the matrix $A$.\n"
   ]
  },
  {
   "cell_type": "markdown",
   "id": "66e5c075",
   "metadata": {},
   "source": [
    "$$\n",
    "x^TAx = \\begin{bmatrix} 2x_1-x_2+2x_3 & -x_1+3x_2 & 2x_1+5x_3 \\end{bmatrix}\n",
    "\\begin{bmatrix} x_1 \\\\ x_2 \\\\ x_3 \\end{bmatrix} \\\\\n",
    "= (2x_1-x_2+2x_3)x_1 + (-x_1+3x_2)x_2 + (2x_1+5x_3) x_3 \\\\\n",
    "= 2x_1^2 - 2x_1x_2 + 3x_2^2+4x_1x_3+5x_3^2\n",
    "$$"
   ]
  },
  {
   "cell_type": "markdown",
   "id": "b2908beb",
   "metadata": {},
   "source": [
    "2) Since B is symmetric matrix, Suppose B matrix is\n",
    "$$\n",
    "B = \\begin{bmatrix} a&b&c \\\\ b&e&f \\\\ c&f&g \\end{bmatrix}\n",
    "$$\n",
    "Then we have\n",
    "$$\n",
    "By = \\begin{bmatrix} a&b&c \\\\ b&e&f \\\\ c&f&g \\end{bmatrix}\\begin{bmatrix} y_1 \\\\ y_2 \\\\ y_3 \\end{bmatrix}\n",
    "$$\n",
    "$$\n",
    "By = \\begin{bmatrix} y_1 a + y_2 b + y_3 c \\\\ y_1 b + y_2 e + y_3 f \\\\ y_1 c + y_2 f + y_3 g \\end{bmatrix}\n",
    "$$\n",
    "$$\n",
    "y^TBy = \\begin{bmatrix} y_1&y_2&y_3 \\end{bmatrix}\\begin{bmatrix} y_1 a + y_2 b + y_3 c \\\\ y_1 b + y_2 e + y_3 f \\\\ y_1 c + y_2 f + y_3 g \\end{bmatrix}\n",
    "$$\n",
    "$$\n",
    "y^TBy = y_1^2a+y_1y_2b+y_1y_3c + y_1y_2b + y_2^2e + y_2y_3f + y_1y_3c + y_2y_3f + y_3^2g \\\\\n",
    "= ay_1^2 + ey_2^2 + gy_3^2 + 2by_1y_2 + 2cy_1y_3 + 2fy_2y_3\n",
    "= y_1^2 - y_2^2 + 4y_3^2 - 2y_1y_2 + 4y_2y_3\n",
    "$$\n",
    "\n",
    "So, $a=1$,$b=-1$,$c=0$,$e=-1$,$f=2$,$g=4$, and B is\n",
    "$$\n",
    "B = \\begin{bmatrix} 1&-1&0 \\\\ -1&-1&2 \\\\ 0&2&4 \\end{bmatrix}\n",
    "$$"
   ]
  },
  {
   "cell_type": "markdown",
   "id": "9f881117",
   "metadata": {},
   "source": [
    "3) Find the minimizer of function $f(x_1, x_2)=x_1^2+x_2^2-x_1x_2$\n",
    "$$\n",
    "\\nabla f = \\begin{bmatrix} \\frac{\\delta f}{\\delta x_1} & \\frac{\\delta f}{\\delta x_2} \\end{bmatrix} = \\begin{bmatrix} 2x_1-x_2 & 2x_2-x_1 \\end{bmatrix}\n",
    "$$\n",
    "Let $\\nabla f = 0$, we get\n",
    "$$\n",
    "\\begin{bmatrix} 2x_1-x_2 & 2x_2-x_1 \\end{bmatrix} = \\begin{bmatrix} 0 & 0 \\end{bmatrix} \\\\\n",
    "x_1=2x_2, x_2=2x_1, x_1=x_2=0\n",
    "$$\n",
    "Hessian matrix of f is\n",
    "$$\n",
    "Hf(x_1,x_2) = \\begin{bmatrix} 2&-1 \\\\ -1&2 \\end{bmatrix}\n",
    "$$\n",
    "$$\n",
    "Hf_{(1,1)} = 2 > 0\n",
    "$$\n",
    "The determinant of a matrix is a product of the eigenvalues:\n",
    "$$\n",
    "\\begin{vmatrix} 2&-1 \\\\ -1&2 \\end{vmatrix} = 2^2-1 = 3 > 0\n",
    "$$\n",
    "Therefore Hf is positive definite matrix, $(0,0)$ is local minimizer"
   ]
  },
  {
   "cell_type": "markdown",
   "id": "edcab13c",
   "metadata": {},
   "source": [
    "4) Find the minimizer of function $f(x_1, x_2)=e^{x-y}+e^{y-x}+e^{x^2}$\n",
    "$$\n",
    "\\nabla f = \\begin{bmatrix} e^{x-y}-e^{y-x}+2xe^{x^2} & -e^{x-y}+e^{y-x} \\end{bmatrix}\n",
    "$$\n",
    "Let $\\nabla f = 0$, we get\n",
    "$$\n",
    "\\begin{bmatrix} e^{x-y}-e^{y-x}+2xe^{x^2} & -e^{x-y}+e^{y-x} \\end{bmatrix} = \\begin{bmatrix} 0 & 0 \\end{bmatrix} \\\\\n",
    "e^{x-y}=e^{y-x}, 2xe^{x^2}=0, x = 0, y = 0\n",
    "$$\n",
    "Hessian matrix of f is\n",
    "$$\n",
    "Hf(x_1,x_2) = \\begin{bmatrix} e^{x-y}+e^{y-x}+(4x^2+2)e^{x^2} & -e^{x-y}-e^{y-x} \\\\ -e^{x-y}-e^{y-x} & e^{x-y}+e^{y-x} \\end{bmatrix}\n",
    "$$\n",
    "$$\n",
    "Hf_{(1,1)} = e^{x-y}+e^{y-x}+(4x^2+2)e^{x^2} > 0\n",
    "$$\n",
    "Let $a=e^{x-y}+e^{y-x}$ and $b=(4x^2+2)e^{x^2}$\n",
    "The determinant of a matrix is a product of the eigenvalues:\n",
    "$$\n",
    "\\begin{vmatrix} a+b&-a \\\\ -a&a \\end{vmatrix} = a(a+b)-a^2=ab = (e^{x-y}+e^{y-x}) \\cdot (4x^2+2)e^{x^2} > 0\n",
    "$$\n",
    "Therefore Hf is positive definite matrix, $(0,0)$ is local minimizer"
   ]
  },
  {
   "cell_type": "markdown",
   "id": "95002f2e",
   "metadata": {},
   "source": [
    "5) compute $min(10x+2y^2+z^2+8z)$, subject to $x+y+z=100$\n",
    "The constraint can be re-write as $100-x-y-z = 0$\n",
    "\n",
    "The Lagrangian function is\n",
    "$L = 10x + 2y^2 + z^2 + 8z + \\lambda (100-x-y-z)$\n",
    "At stationary points of $L$, all partial derivatives should be zero, including the partial derivative with respect to $\\lambda$  \n",
    "$\\frac{\\delta L}{\\delta x} = 10 - \\lambda = 0$  \n",
    "$\\frac{\\delta L}{\\delta y} = 4y - \\lambda = 0$  \n",
    "$\\frac{\\delta L}{\\delta z} = 2z + 8 - \\lambda = 0$  \n",
    "$\\frac{\\delta L}{\\delta \\lambda} = 100-x-y-z = 0$    \n",
    "Solving the equations we get\n",
    "$\\lambda = 10$  \n",
    "$y = 2.5$  \n",
    "$z = 1$  \n",
    "$x = 100 - 2.5 - 1 = 96.5$  \n",
    "\n",
    "The minimizer point $(x,y,z) = (96.5, 2.5, 1)$"
   ]
  }
 ],
 "metadata": {
  "kernelspec": {
   "display_name": "Python 3 (ipykernel)",
   "language": "python",
   "name": "python3"
  },
  "language_info": {
   "codemirror_mode": {
    "name": "ipython",
    "version": 3
   },
   "file_extension": ".py",
   "mimetype": "text/x-python",
   "name": "python",
   "nbconvert_exporter": "python",
   "pygments_lexer": "ipython3",
   "version": "3.10.9"
  }
 },
 "nbformat": 4,
 "nbformat_minor": 5
}
